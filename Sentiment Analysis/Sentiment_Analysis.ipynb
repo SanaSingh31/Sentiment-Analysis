{
  "nbformat": 4,
  "nbformat_minor": 0,
  "metadata": {
    "colab": {
      "provenance": [],
      "gpuType": "T4"
    },
    "kernelspec": {
      "name": "python3",
      "display_name": "Python 3"
    },
    "language_info": {
      "name": "python"
    },
    "accelerator": "GPU"
  },
  "cells": [
    {
      "cell_type": "markdown",
      "source": [
        "Setups and Imports"
      ],
      "metadata": {
        "id": "7m_imnYgYAZt"
      }
    },
    {
      "cell_type": "code",
      "execution_count": null,
      "metadata": {
        "colab": {
          "base_uri": "https://localhost:8080/"
        },
        "id": "Nu23BFmYUoiS",
        "outputId": "73ba449d-534e-4324-d923-259f26d564f5"
      },
      "outputs": [
        {
          "output_type": "stream",
          "name": "stdout",
          "text": [
            "Collecting nlp\n",
            "  Downloading nlp-0.4.0-py3-none-any.whl.metadata (5.0 kB)\n",
            "Requirement already satisfied: numpy in /usr/local/lib/python3.11/dist-packages (from nlp) (2.0.2)\n",
            "Requirement already satisfied: pyarrow>=0.16.0 in /usr/local/lib/python3.11/dist-packages (from nlp) (18.1.0)\n",
            "Collecting dill (from nlp)\n",
            "  Downloading dill-0.3.9-py3-none-any.whl.metadata (10 kB)\n",
            "Requirement already satisfied: pandas in /usr/local/lib/python3.11/dist-packages (from nlp) (2.2.2)\n",
            "Requirement already satisfied: requests>=2.19.0 in /usr/local/lib/python3.11/dist-packages (from nlp) (2.32.3)\n",
            "Requirement already satisfied: tqdm>=4.27 in /usr/local/lib/python3.11/dist-packages (from nlp) (4.67.1)\n",
            "Requirement already satisfied: filelock in /usr/local/lib/python3.11/dist-packages (from nlp) (3.18.0)\n",
            "Collecting xxhash (from nlp)\n",
            "  Downloading xxhash-3.5.0-cp311-cp311-manylinux_2_17_x86_64.manylinux2014_x86_64.whl.metadata (12 kB)\n",
            "Requirement already satisfied: charset-normalizer<4,>=2 in /usr/local/lib/python3.11/dist-packages (from requests>=2.19.0->nlp) (3.4.1)\n",
            "Requirement already satisfied: idna<4,>=2.5 in /usr/local/lib/python3.11/dist-packages (from requests>=2.19.0->nlp) (3.10)\n",
            "Requirement already satisfied: urllib3<3,>=1.21.1 in /usr/local/lib/python3.11/dist-packages (from requests>=2.19.0->nlp) (2.3.0)\n",
            "Requirement already satisfied: certifi>=2017.4.17 in /usr/local/lib/python3.11/dist-packages (from requests>=2.19.0->nlp) (2025.1.31)\n",
            "Requirement already satisfied: python-dateutil>=2.8.2 in /usr/local/lib/python3.11/dist-packages (from pandas->nlp) (2.8.2)\n",
            "Requirement already satisfied: pytz>=2020.1 in /usr/local/lib/python3.11/dist-packages (from pandas->nlp) (2025.2)\n",
            "Requirement already satisfied: tzdata>=2022.7 in /usr/local/lib/python3.11/dist-packages (from pandas->nlp) (2025.2)\n",
            "Requirement already satisfied: six>=1.5 in /usr/local/lib/python3.11/dist-packages (from python-dateutil>=2.8.2->pandas->nlp) (1.17.0)\n",
            "Downloading nlp-0.4.0-py3-none-any.whl (1.7 MB)\n",
            "\u001b[2K   \u001b[90m━━━━━━━━━━━━━━━━━━━━━━━━━━━━━━━━━━━━━━━━\u001b[0m \u001b[32m1.7/1.7 MB\u001b[0m \u001b[31m55.2 MB/s\u001b[0m eta \u001b[36m0:00:00\u001b[0m\n",
            "\u001b[?25hDownloading dill-0.3.9-py3-none-any.whl (119 kB)\n",
            "\u001b[2K   \u001b[90m━━━━━━━━━━━━━━━━━━━━━━━━━━━━━━━━━━━━━━━━\u001b[0m \u001b[32m119.4/119.4 kB\u001b[0m \u001b[31m10.8 MB/s\u001b[0m eta \u001b[36m0:00:00\u001b[0m\n",
            "\u001b[?25hDownloading xxhash-3.5.0-cp311-cp311-manylinux_2_17_x86_64.manylinux2014_x86_64.whl (194 kB)\n",
            "\u001b[2K   \u001b[90m━━━━━━━━━━━━━━━━━━━━━━━━━━━━━━━━━━━━━━━━\u001b[0m \u001b[32m194.8/194.8 kB\u001b[0m \u001b[31m17.8 MB/s\u001b[0m eta \u001b[36m0:00:00\u001b[0m\n",
            "\u001b[?25hInstalling collected packages: xxhash, dill, nlp\n",
            "Successfully installed dill-0.3.9 nlp-0.4.0 xxhash-3.5.0\n"
          ]
        }
      ],
      "source": [
        "!pip install nlp"
      ]
    },
    {
      "cell_type": "code",
      "source": [
        "from google.colab import drive\n",
        "drive.mount('/content/drive')"
      ],
      "metadata": {
        "colab": {
          "base_uri": "https://localhost:8080/"
        },
        "id": "2F09lFt0jP_u",
        "outputId": "b9988642-1ad2-4e20-fc46-8f6018f6f83e"
      },
      "execution_count": null,
      "outputs": [
        {
          "output_type": "stream",
          "name": "stdout",
          "text": [
            "Mounted at /content/drive\n"
          ]
        }
      ]
    },
    {
      "cell_type": "code",
      "source": [
        "import tensorflow as tf\n",
        "import numpy as np\n",
        "import pandas as pd\n",
        "import matplotlib.pyplot as plt\n",
        "from sklearn.model_selection import train_test_split\n",
        "from sklearn.metrics import confusion_matrix, classification_report\n",
        "import random"
      ],
      "metadata": {
        "id": "XLgp9n_fVEg0"
      },
      "execution_count": null,
      "outputs": []
    },
    {
      "cell_type": "code",
      "source": [
        "def show_history(h):\n",
        "    epochs_trained = len(h.history['loss'])\n",
        "    plt.figure(figsize=(16, 6))\n",
        "    plt.subplot(1, 2, 1)\n",
        "    plt.plot(range(epochs_trained), h.history['accuracy'], label='Training')\n",
        "    plt.plot(range(epochs_trained), h.history['val_accuracy'], label='Validation')\n",
        "    plt.ylim([0., 1.])\n",
        "    plt.xlabel('Epochs')\n",
        "    plt.ylabel('Accuracy')\n",
        "    plt.legend()\n",
        "    plt.subplot(1, 2, 2)\n",
        "    plt.plot(range(epochs_trained), h.history['loss'], label='Training')\n",
        "    plt.plot(range(epochs_trained), h.history['val_loss'], label='Validation')\n",
        "    plt.xlabel('Epochs')\n",
        "    plt.ylabel('Loss')\n",
        "    plt.legend()\n",
        "    plt.show()\n",
        "\n",
        "def show_confusion_matrix(y_true, y_pred, classes):\n",
        "    cm = confusion_matrix(y_true, y_pred, normalize='true')\n",
        "    plt.figure(figsize=(8, 8))\n",
        "    plt.matshow(cm, cmap=plt.cm.RdYlGn)\n",
        "    plt.colorbar()\n",
        "    plt.xticks(range(len(classes)), classes, rotation=45)\n",
        "    plt.yticks(range(len(classes)), classes)\n",
        "    plt.xlabel(\"Predicted\")\n",
        "    plt.ylabel(\"Actual\")\n",
        "    plt.show()"
      ],
      "metadata": {
        "id": "9qImkco0Va14"
      },
      "execution_count": null,
      "outputs": []
    },
    {
      "cell_type": "markdown",
      "source": [
        "Importing Dataset"
      ],
      "metadata": {
        "id": "i8URTiEsYJUp"
      }
    },
    {
      "cell_type": "code",
      "source": [
        "dataset = pd.read_csv('/content/drive/MyDrive/DATA_2.csv', encoding='ISO-8859-1') # Replace 'MyDrive' with your Google Drive folder if necessary\n",
        "train_data, temp_data = train_test_split(dataset, test_size=0.3, random_state=42)\n",
        "val_data, test_data = train_test_split(temp_data, test_size=0.5, random_state=42)\n",
        "\n",
        "# Data extraction function\n",
        "def get_tweet(data):\n",
        "    # Ensure no NaN in 'Review' or 'Sentiment' and convert to string\n",
        "    data = data.dropna(subset=['Review', 'Sentiment'])\n",
        "    tweets = data['Review'].astype(str).tolist()\n",
        "    labels = data['Sentiment'].tolist()\n",
        "    return tweets, labels"
      ],
      "metadata": {
        "id": "gPZ1fO0vXkq7"
      },
      "execution_count": null,
      "outputs": []
    },
    {
      "cell_type": "markdown",
      "source": [
        "Tokenizer"
      ],
      "metadata": {
        "id": "7UBdQ8OMViPb"
      }
    },
    {
      "cell_type": "code",
      "source": [
        "maxlen = 50\n",
        "tokenizer = tf.keras.preprocessing.text.Tokenizer(num_words=10000, oov_token='<UNK>')\n",
        "train_tweets, train_labels = get_tweet(train_data)\n",
        "tokenizer.fit_on_texts(train_tweets)\n"
      ],
      "metadata": {
        "id": "V3Rl4U9LVho0"
      },
      "execution_count": null,
      "outputs": []
    },
    {
      "cell_type": "code",
      "source": [
        "print(train_tweets[4])"
      ],
      "metadata": {
        "colab": {
          "base_uri": "https://localhost:8080/"
        },
        "id": "xxtyeI8RmBpW",
        "outputId": "5e253ee9-820b-4c50-b41d-cd13c010a200"
      },
      "execution_count": null,
      "outputs": [
        {
          "output_type": "stream",
          "name": "stdout",
          "text": [
            "I watched it at movie theatre, this movie deserve each penny. Cinematic and camera effects are superb\n"
          ]
        }
      ]
    },
    {
      "cell_type": "code",
      "source": [
        "def get_sequences(tokenizer, tweets):\n",
        "    sequences = tokenizer.texts_to_sequences(tweets)\n",
        "    padded = tf.keras.preprocessing.sequence.pad_sequences(\n",
        "        sequences, maxlen=maxlen, padding='post', truncating='post'\n",
        "    )\n",
        "    return padded"
      ],
      "metadata": {
        "id": "ueWLXmG3VtFy"
      },
      "execution_count": null,
      "outputs": []
    },
    {
      "cell_type": "code",
      "source": [
        "classes = sorted(set(train_labels))  # Ensure consistent ordering\n",
        "class_to_index = {c: i for i, c in enumerate(classes)}\n",
        "index_to_class = {i: c for i, c in enumerate(classes)}\n",
        "names_to_ids = lambda labels: np.array([class_to_index[x] for x in labels])"
      ],
      "metadata": {
        "id": "thOq7WLhR8xr"
      },
      "execution_count": null,
      "outputs": []
    },
    {
      "cell_type": "code",
      "source": [
        "tokenizer.texts_to_sequences([train_tweets[4]])\n"
      ],
      "metadata": {
        "id": "JcmzYvHhWGOP",
        "colab": {
          "base_uri": "https://localhost:8080/"
        },
        "outputId": "ea34c99c-5024-48e6-f626-6c291f8a7cba"
      },
      "execution_count": null,
      "outputs": [
        {
          "output_type": "execute_result",
          "data": {
            "text/plain": [
              "[[3,\n",
              "  106,\n",
              "  11,\n",
              "  50,\n",
              "  12,\n",
              "  818,\n",
              "  6,\n",
              "  12,\n",
              "  1072,\n",
              "  591,\n",
              "  7762,\n",
              "  701,\n",
              "  4,\n",
              "  1250,\n",
              "  843,\n",
              "  30,\n",
              "  1441]]"
            ]
          },
          "metadata": {},
          "execution_count": 32
        }
      ]
    },
    {
      "cell_type": "code",
      "source": [
        "train_tweets[4]\n"
      ],
      "metadata": {
        "id": "fgD1LNpWWQPs",
        "colab": {
          "base_uri": "https://localhost:8080/",
          "height": 36
        },
        "outputId": "d4307a5b-2d8d-4b54-e79e-dab8612c1335"
      },
      "execution_count": null,
      "outputs": [
        {
          "output_type": "execute_result",
          "data": {
            "text/plain": [
              "'I watched it at movie theatre, this movie deserve each penny. Cinematic and camera effects are superb'"
            ],
            "application/vnd.google.colaboratory.intrinsic+json": {
              "type": "string"
            }
          },
          "metadata": {},
          "execution_count": 34
        }
      ]
    },
    {
      "cell_type": "markdown",
      "source": [
        "Padding and Truncating Sequences"
      ],
      "metadata": {
        "id": "9VxYACSMbJAV"
      }
    },
    {
      "cell_type": "code",
      "source": [
        "lengths = [len(t.split(' ')) for t in train_tweets]\n",
        "plt.hist(lengths, bins=len(set(lengths)))\n",
        "plt.show()\n"
      ],
      "metadata": {
        "id": "9J4wiIUTbG6d",
        "colab": {
          "base_uri": "https://localhost:8080/",
          "height": 430
        },
        "outputId": "ee72bdf9-1902-40b0-b922-ade7782bfc4d"
      },
      "execution_count": null,
      "outputs": [
        {
          "output_type": "display_data",
          "data": {
            "text/plain": [
              "<Figure size 640x480 with 1 Axes>"
            ],
            "image/png": "[encoded data removed]"
          },
          "metadata": {}
        }
      ]
    },
    {
      "cell_type": "markdown",
      "source": [
        "Preparing the labels"
      ],
      "metadata": {
        "id": "UkostgekcTSM"
      }
    },
    {
      "cell_type": "code",
      "source": [
        "train_tweets, labels = get_tweet(train_data)\n",
        "classes = set(labels)\n",
        "print(classes)"
      ],
      "metadata": {
        "id": "Rqtf-UElcO1E",
        "colab": {
          "base_uri": "https://localhost:8080/"
        },
        "outputId": "580edba9-3610-4467-a9f3-21865da97b61"
      },
      "execution_count": null,
      "outputs": [
        {
          "output_type": "stream",
          "name": "stdout",
          "text": [
            "{'Neutral', 'Positive', 'Negative'}\n"
          ]
        }
      ]
    },
    {
      "cell_type": "code",
      "source": [
        "plt.hist(labels, bins=11)\n",
        "plt.show()"
      ],
      "metadata": {
        "id": "y0wxnpEwxI4_",
        "colab": {
          "base_uri": "https://localhost:8080/",
          "height": 430
        },
        "outputId": "4fa3b99f-7c18-4ed5-f073-a1743eb46139"
      },
      "execution_count": null,
      "outputs": [
        {
          "output_type": "display_data",
          "data": {
            "text/plain": [
              "<Figure size 640x480 with 1 Axes>"
            ],
            "image/png": "[encoded data removed]"
          },
          "metadata": {}
        }
      ]
    },
    {
      "cell_type": "code",
      "source": [
        "class_to_index = dict((c,i) for i,c in enumerate(classes))\n",
        "index_to_class = dict((v,k) for k,v in class_to_index.items())"
      ],
      "metadata": {
        "id": "SAYuABDZxf9E"
      },
      "execution_count": null,
      "outputs": []
    },
    {
      "cell_type": "code",
      "source": [
        "class_to_index"
      ],
      "metadata": {
        "id": "RDMSB6ORx3C9",
        "colab": {
          "base_uri": "https://localhost:8080/"
        },
        "outputId": "12db2337-8935-4ac8-d7c6-dd64776751f1"
      },
      "execution_count": null,
      "outputs": [
        {
          "output_type": "execute_result",
          "data": {
            "text/plain": [
              "{'Neutral': 0, 'Positive': 1, 'Negative': 2}"
            ]
          },
          "metadata": {},
          "execution_count": 41
        }
      ]
    },
    {
      "cell_type": "code",
      "source": [
        "index_to_class"
      ],
      "metadata": {
        "id": "66YGln-cx6xd",
        "colab": {
          "base_uri": "https://localhost:8080/"
        },
        "outputId": "aeb0a05e-123d-43fd-e03b-6211e8559906"
      },
      "execution_count": null,
      "outputs": [
        {
          "output_type": "execute_result",
          "data": {
            "text/plain": [
              "{0: 'Neutral', 1: 'Positive', 2: 'Negative'}"
            ]
          },
          "metadata": {},
          "execution_count": 42
        }
      ]
    },
    {
      "cell_type": "code",
      "source": [
        "names_to_ids = lambda labels:np.array([class_to_index.get(x) for x in labels])"
      ],
      "metadata": {
        "id": "HmpNN_a6x9ok"
      },
      "execution_count": null,
      "outputs": []
    },
    {
      "cell_type": "code",
      "source": [
        "train_labels = names_to_ids(labels)\n",
        "print(train_labels[6])"
      ],
      "metadata": {
        "id": "dizaBvHMyXsc",
        "colab": {
          "base_uri": "https://localhost:8080/"
        },
        "outputId": "34bcfda1-6db1-4d5e-a89a-9b3af8755d3b"
      },
      "execution_count": null,
      "outputs": [
        {
          "output_type": "stream",
          "name": "stdout",
          "text": [
            "1\n"
          ]
        }
      ]
    },
    {
      "cell_type": "markdown",
      "source": [
        "Creating the Model"
      ],
      "metadata": {
        "id": "R_Clvsmpyzze"
      }
    },
    {
      "cell_type": "code",
      "source": [
        "def process_data(tweets, labels):\n",
        "    # Filter out empty or invalid tweets and keep labels aligned\n",
        "    valid_pairs = [(t, l) for t, l in zip(tweets, labels) if t.strip()]\n",
        "    if not valid_pairs:\n",
        "        raise ValueError(\"No valid data after filtering\")\n",
        "    valid_tweets, valid_labels = zip(*valid_pairs)\n",
        "    seq = get_sequences(tokenizer, valid_tweets)\n",
        "    labels_array = names_to_ids(valid_labels)\n",
        "    return seq, labels_array"
      ],
      "metadata": {
        "id": "irefSROMT2PS"
      },
      "execution_count": null,
      "outputs": []
    },
    {
      "cell_type": "code",
      "source": [
        "train_seq, train_labels = process_data(train_tweets, train_labels)\n",
        "val_tweets, val_labels = get_tweet(val_data)\n",
        "val_seq, val_labels = process_data(val_tweets, val_labels)\n",
        "test_tweets, test_labels = get_tweet(test_data)\n",
        "test_seq, test_labels = process_data(test_tweets, test_labels)"
      ],
      "metadata": {
        "id": "cQssX3NkSI4j"
      },
      "execution_count": null,
      "outputs": []
    },
    {
      "cell_type": "code",
      "source": [
        "print(f\"Train samples: {len(train_seq)}, Train labels: {len(train_labels)}\")\n",
        "print(f\"Val samples: {len(val_seq)}, Val labels: {len(val_labels)}\")\n",
        "print(f\"Test samples: {len(test_seq)}, Test labels: {len(test_labels)}\")"
      ],
      "metadata": {
        "colab": {
          "base_uri": "https://localhost:8080/"
        },
        "id": "m4HYINLcUAIK",
        "outputId": "6055bece-9757-43f4-c82a-11741032e96d"
      },
      "execution_count": null,
      "outputs": [
        {
          "output_type": "stream",
          "name": "stdout",
          "text": [
            "Train samples: 9339, Train labels: 9339\n",
            "Val samples: 2002, Val labels: 2002\n",
            "Test samples: 2002, Test labels: 2002\n"
          ]
        }
      ]
    },
    {
      "cell_type": "code",
      "source": [
        "model = tf.keras.models.Sequential([\n",
        "    tf.keras.layers.Embedding(10000, 32, input_length=maxlen),\n",
        "\n",
        "    # First BiLSTM with dropout\n",
        "    tf.keras.layers.Bidirectional(\n",
        "        tf.keras.layers.LSTM(32, return_sequences=True, dropout=0.3, recurrent_dropout=0.3)\n",
        "    ),\n",
        "\n",
        "    # Second BiLSTM with dropout\n",
        "    tf.keras.layers.Bidirectional(\n",
        "        tf.keras.layers.LSTM(32, dropout=0.3, recurrent_dropout=0.3)\n",
        "    ),\n",
        "\n",
        "    # Dense + Dropout + L2 Regularization\n",
        "    tf.keras.layers.Dense(64, activation='relu', kernel_regularizer=tf.keras.regularizers.l2(0.01)),\n",
        "    tf.keras.layers.Dropout(0.4),  # Slightly higher dropout\n",
        "\n",
        "    # Output layer\n",
        "    tf.keras.layers.Dense(3, activation='softmax')\n",
        "])\n",
        "\n",
        "optimizer = tf.keras.optimizers.Adam(learning_rate=0.001)\n",
        "\n",
        "model.compile(\n",
        "    loss='sparse_categorical_crossentropy',\n",
        "    optimizer=optimizer,\n",
        "    metrics=['accuracy']\n",
        ")\n",
        "\n",
        "model.summary()"
      ],
      "metadata": {
        "id": "G1BBbGnSy5xa",
        "colab": {
          "base_uri": "https://localhost:8080/",
          "height": 353
        },
        "outputId": "28cbf136-086b-45d4-b713-76e494427952"
      },
      "execution_count": null,
      "outputs": [
        {
          "output_type": "stream",
          "name": "stderr",
          "text": [
            "/usr/local/lib/python3.11/dist-packages/keras/src/layers/core/embedding.py:90: UserWarning: Argument `input_length` is deprecated. Just remove it.\n",
            "  warnings.warn(\n"
          ]
        },
        {
          "output_type": "display_data",
          "data": {
            "text/plain": [
              "\u001b[1mModel: \"sequential_1\"\u001b[0m\n"
            ],
            "text/html": [
              "<pre style=\"white-space:pre;overflow-x:auto;line-height:normal;font-family:Menlo,'DejaVu Sans Mono',consolas,'Courier New',monospace\"><span style=\"font-weight: bold\">Model: \"sequential_1\"</span>\n",
              "</pre>\n"
            ]
          },
          "metadata": {}
        },
        {
          "output_type": "display_data",
          "data": {
            "text/plain": [
              "┏━━━━━━━━━━━━━━━━━━━━━━━━━━━━━━━━━━━━━━┳━━━━━━━━━━━━━━━━━━━━━━━━━━━━━┳━━━━━━━━━━━━━━━━━┓\n",
              "┃\u001b[1m \u001b[0m\u001b[1mLayer (type)                        \u001b[0m\u001b[1m \u001b[0m┃\u001b[1m \u001b[0m\u001b[1mOutput Shape               \u001b[0m\u001b[1m \u001b[0m┃\u001b[1m \u001b[0m\u001b[1m        Param #\u001b[0m\u001b[1m \u001b[0m┃\n",
              "┡━━━━━━━━━━━━━━━━━━━━━━━━━━━━━━━━━━━━━━╇━━━━━━━━━━━━━━━━━━━━━━━━━━━━━╇━━━━━━━━━━━━━━━━━┩\n",
              "│ embedding_1 (\u001b[38;5;33mEmbedding\u001b[0m)              │ ?                           │     \u001b[38;5;34m0\u001b[0m (unbuilt) │\n",
              "├──────────────────────────────────────┼─────────────────────────────┼─────────────────┤\n",
              "│ bidirectional_2 (\u001b[38;5;33mBidirectional\u001b[0m)      │ ?                           │     \u001b[38;5;34m0\u001b[0m (unbuilt) │\n",
              "├──────────────────────────────────────┼─────────────────────────────┼─────────────────┤\n",
              "│ bidirectional_3 (\u001b[38;5;33mBidirectional\u001b[0m)      │ ?                           │     \u001b[38;5;34m0\u001b[0m (unbuilt) │\n",
              "├──────────────────────────────────────┼─────────────────────────────┼─────────────────┤\n",
              "│ dense_2 (\u001b[38;5;33mDense\u001b[0m)                      │ ?                           │     \u001b[38;5;34m0\u001b[0m (unbuilt) │\n",
              "├──────────────────────────────────────┼─────────────────────────────┼─────────────────┤\n",
              "│ dropout_1 (\u001b[38;5;33mDropout\u001b[0m)                  │ ?                           │               \u001b[38;5;34m0\u001b[0m │\n",
              "├──────────────────────────────────────┼─────────────────────────────┼─────────────────┤\n",
              "│ dense_3 (\u001b[38;5;33mDense\u001b[0m)                      │ ?                           │     \u001b[38;5;34m0\u001b[0m (unbuilt) │\n",
              "└──────────────────────────────────────┴─────────────────────────────┴─────────────────┘\n"
            ],
            "text/html": [
              "<pre style=\"white-space:pre;overflow-x:auto;line-height:normal;font-family:Menlo,'DejaVu Sans Mono',consolas,'Courier New',monospace\">┏━━━━━━━━━━━━━━━━━━━━━━━━━━━━━━━━━━━━━━┳━━━━━━━━━━━━━━━━━━━━━━━━━━━━━┳━━━━━━━━━━━━━━━━━┓\n",
              "┃<span style=\"font-weight: bold\"> Layer (type)                         </span>┃<span style=\"font-weight: bold\"> Output Shape                </span>┃<span style=\"font-weight: bold\">         Param # </span>┃\n",
              "┡━━━━━━━━━━━━━━━━━━━━━━━━━━━━━━━━━━━━━━╇━━━━━━━━━━━━━━━━━━━━━━━━━━━━━╇━━━━━━━━━━━━━━━━━┩\n",
              "│ embedding_1 (<span style=\"color: #0087ff; text-decoration-color: #0087ff\">Embedding</span>)              │ ?                           │     <span style=\"color: #00af00; text-decoration-color: #00af00\">0</span> (unbuilt) │\n",
              "├──────────────────────────────────────┼─────────────────────────────┼─────────────────┤\n",
              "│ bidirectional_2 (<span style=\"color: #0087ff; text-decoration-color: #0087ff\">Bidirectional</span>)      │ ?                           │     <span style=\"color: #00af00; text-decoration-color: #00af00\">0</span> (unbuilt) │\n",
              "├──────────────────────────────────────┼─────────────────────────────┼─────────────────┤\n",
              "│ bidirectional_3 (<span style=\"color: #0087ff; text-decoration-color: #0087ff\">Bidirectional</span>)      │ ?                           │     <span style=\"color: #00af00; text-decoration-color: #00af00\">0</span> (unbuilt) │\n",
              "├──────────────────────────────────────┼─────────────────────────────┼─────────────────┤\n",
              "│ dense_2 (<span style=\"color: #0087ff; text-decoration-color: #0087ff\">Dense</span>)                      │ ?                           │     <span style=\"color: #00af00; text-decoration-color: #00af00\">0</span> (unbuilt) │\n",
              "├──────────────────────────────────────┼─────────────────────────────┼─────────────────┤\n",
              "│ dropout_1 (<span style=\"color: #0087ff; text-decoration-color: #0087ff\">Dropout</span>)                  │ ?                           │               <span style=\"color: #00af00; text-decoration-color: #00af00\">0</span> │\n",
              "├──────────────────────────────────────┼─────────────────────────────┼─────────────────┤\n",
              "│ dense_3 (<span style=\"color: #0087ff; text-decoration-color: #0087ff\">Dense</span>)                      │ ?                           │     <span style=\"color: #00af00; text-decoration-color: #00af00\">0</span> (unbuilt) │\n",
              "└──────────────────────────────────────┴─────────────────────────────┴─────────────────┘\n",
              "</pre>\n"
            ]
          },
          "metadata": {}
        },
        {
          "output_type": "display_data",
          "data": {
            "text/plain": [
              "\u001b[1m Total params: \u001b[0m\u001b[38;5;34m0\u001b[0m (0.00 B)\n"
            ],
            "text/html": [
              "<pre style=\"white-space:pre;overflow-x:auto;line-height:normal;font-family:Menlo,'DejaVu Sans Mono',consolas,'Courier New',monospace\"><span style=\"font-weight: bold\"> Total params: </span><span style=\"color: #00af00; text-decoration-color: #00af00\">0</span> (0.00 B)\n",
              "</pre>\n"
            ]
          },
          "metadata": {}
        },
        {
          "output_type": "display_data",
          "data": {
            "text/plain": [
              "\u001b[1m Trainable params: \u001b[0m\u001b[38;5;34m0\u001b[0m (0.00 B)\n"
            ],
            "text/html": [
              "<pre style=\"white-space:pre;overflow-x:auto;line-height:normal;font-family:Menlo,'DejaVu Sans Mono',consolas,'Courier New',monospace\"><span style=\"font-weight: bold\"> Trainable params: </span><span style=\"color: #00af00; text-decoration-color: #00af00\">0</span> (0.00 B)\n",
              "</pre>\n"
            ]
          },
          "metadata": {}
        },
        {
          "output_type": "display_data",
          "data": {
            "text/plain": [
              "\u001b[1m Non-trainable params: \u001b[0m\u001b[38;5;34m0\u001b[0m (0.00 B)\n"
            ],
            "text/html": [
              "<pre style=\"white-space:pre;overflow-x:auto;line-height:normal;font-family:Menlo,'DejaVu Sans Mono',consolas,'Courier New',monospace\"><span style=\"font-weight: bold\"> Non-trainable params: </span><span style=\"color: #00af00; text-decoration-color: #00af00\">0</span> (0.00 B)\n",
              "</pre>\n"
            ]
          },
          "metadata": {}
        }
      ]
    },
    {
      "cell_type": "markdown",
      "source": [
        "Training the Model"
      ],
      "metadata": {
        "id": "Dhqtzspw1e1u"
      }
    },
    {
      "cell_type": "code",
      "source": [
        "callbacks = [\n",
        "    tf.keras.callbacks.EarlyStopping(monitor='val_loss', patience=5, restore_best_weights=True),\n",
        "    tf.keras.callbacks.ReduceLROnPlateau(monitor='val_loss', factor=0.5, patience=3, min_lr=0.00001)\n",
        "]"
      ],
      "metadata": {
        "id": "QVejpZAg1h9_"
      },
      "execution_count": null,
      "outputs": []
    },
    {
      "cell_type": "code",
      "source": [
        "def names_to_ids(labels):\n",
        "    \"\"\"Converts a list of labels to a NumPy array of label IDs.\n",
        "    Handles unknown labels by assigning a default label (e.g., 0).\n",
        "    \"\"\"\n",
        "    # Use a default value (0) if label not found in class_to_index\n",
        "    return np.array([class_to_index.get(x, 0) for x in labels])\n",
        "\n",
        "# Ensure train_labels is a list before processing\n",
        "train_tweets, labels = get_tweet(train_data)\n",
        "train_labels = names_to_ids(labels) # Process labels before train_seq\n",
        "train_seq, _ = process_data(train_tweets, train_labels)  # _ to ignore the second output\n",
        "\n",
        "# Convert train_labels and val_labels to int64 after processing\n",
        "train_labels = np.array(train_labels, dtype=np.int64)\n",
        "val_labels = np.array(val_labels, dtype=np.int64)\n",
        "\n",
        "h = model.fit(\n",
        "    train_seq, train_labels,\n",
        "    validation_data=(val_seq, val_labels),\n",
        "    epochs=20,\n",
        "    batch_size=64,  # Increased batch size\n",
        "    callbacks=callbacks,\n",
        "    verbose=1\n",
        ")"
      ],
      "metadata": {
        "colab": {
          "base_uri": "https://localhost:8080/"
        },
        "id": "djIYa6TIolCZ",
        "outputId": "5d1c33ea-f288-4639-a405-7347b07c5b2f"
      },
      "execution_count": null,
      "outputs": [
        {
          "output_type": "stream",
          "name": "stdout",
          "text": [
            "Epoch 1/20\n",
            "\u001b[1m146/146\u001b[0m \u001b[32m━━━━━━━━━━━━━━━━━━━━\u001b[0m\u001b[37m\u001b[0m \u001b[1m107s\u001b[0m 638ms/step - accuracy: 0.4236 - loss: 1.4652 - val_accuracy: 0.5764 - val_loss: 0.9522 - learning_rate: 0.0010\n",
            "Epoch 2/20\n",
            "\u001b[1m146/146\u001b[0m \u001b[32m━━━━━━━━━━━━━━━━━━━━\u001b[0m\u001b[37m\u001b[0m \u001b[1m93s\u001b[0m 640ms/step - accuracy: 0.6606 - loss: 0.8225 - val_accuracy: 0.7962 - val_loss: 0.5912 - learning_rate: 0.0010\n",
            "Epoch 3/20\n",
            "\u001b[1m146/146\u001b[0m \u001b[32m━━━━━━━━━━━━━━━━━━━━\u001b[0m\u001b[37m\u001b[0m \u001b[1m140s\u001b[0m 627ms/step - accuracy: 0.8599 - loss: 0.4505 - val_accuracy: 0.8282 - val_loss: 0.5270 - learning_rate: 0.0010\n",
            "Epoch 4/20\n",
            "\u001b[1m146/146\u001b[0m \u001b[32m━━━━━━━━━━━━━━━━━━━━\u001b[0m\u001b[37m\u001b[0m \u001b[1m144s\u001b[0m 642ms/step - accuracy: 0.9139 - loss: 0.3184 - val_accuracy: 0.8387 - val_loss: 0.5085 - learning_rate: 0.0010\n",
            "Epoch 5/20\n",
            "\u001b[1m146/146\u001b[0m \u001b[32m━━━━━━━━━━━━━━━━━━━━\u001b[0m\u001b[37m\u001b[0m \u001b[1m91s\u001b[0m 627ms/step - accuracy: 0.9273 - loss: 0.2659 - val_accuracy: 0.8307 - val_loss: 0.5367 - learning_rate: 0.0010\n",
            "Epoch 6/20\n",
            "\u001b[1m146/146\u001b[0m \u001b[32m━━━━━━━━━━━━━━━━━━━━\u001b[0m\u001b[37m\u001b[0m \u001b[1m94s\u001b[0m 641ms/step - accuracy: 0.9437 - loss: 0.2302 - val_accuracy: 0.8487 - val_loss: 0.5170 - learning_rate: 0.0010\n",
            "Epoch 7/20\n",
            "\u001b[1m146/146\u001b[0m \u001b[32m━━━━━━━━━━━━━━━━━━━━\u001b[0m\u001b[37m\u001b[0m \u001b[1m140s\u001b[0m 630ms/step - accuracy: 0.9512 - loss: 0.1922 - val_accuracy: 0.8561 - val_loss: 0.5155 - learning_rate: 0.0010\n",
            "Epoch 8/20\n",
            "\u001b[1m146/146\u001b[0m \u001b[32m━━━━━━━━━━━━━━━━━━━━\u001b[0m\u001b[37m\u001b[0m \u001b[1m142s\u001b[0m 631ms/step - accuracy: 0.9670 - loss: 0.1479 - val_accuracy: 0.8482 - val_loss: 0.5835 - learning_rate: 5.0000e-04\n",
            "Epoch 9/20\n",
            "\u001b[1m146/146\u001b[0m \u001b[32m━━━━━━━━━━━━━━━━━━━━\u001b[0m\u001b[37m\u001b[0m \u001b[1m95s\u001b[0m 653ms/step - accuracy: 0.9721 - loss: 0.1333 - val_accuracy: 0.8536 - val_loss: 0.5601 - learning_rate: 5.0000e-04\n"
          ]
        }
      ]
    },
    {
      "cell_type": "markdown",
      "source": [
        "Evaluating the Model"
      ],
      "metadata": {
        "id": "tkBobjBg4Fh7"
      }
    },
    {
      "cell_type": "code",
      "source": [
        "show_history(h)"
      ],
      "metadata": {
        "id": "-4sFi62j4H9W",
        "colab": {
          "base_uri": "https://localhost:8080/",
          "height": 547
        },
        "outputId": "82a230d4-915e-4891-a5f0-657f4367071e"
      },
      "execution_count": null,
      "outputs": [
        {
          "output_type": "display_data",
          "data": {
            "text/plain": [
              "<Figure size 1600x600 with 2 Axes>"
            ],
            "image/png": "[encoded data removed]"
          },
          "metadata": {}
        }
      ]
    },
    {
      "cell_type": "code",
      "source": [
        "test_loss, test_acc = model.evaluate(test_seq, test_labels)\n",
        "print(f\"Test Accuracy: {test_acc:.4f}, Test Loss: {test_loss:.4f}\")"
      ],
      "metadata": {
        "id": "lW9nLdjF4Qc2",
        "colab": {
          "base_uri": "https://localhost:8080/"
        },
        "outputId": "10ca0fe6-17ee-4fcf-db1a-bac06e318a80"
      },
      "execution_count": null,
      "outputs": [
        {
          "output_type": "stream",
          "name": "stdout",
          "text": [
            "\u001b[1m63/63\u001b[0m \u001b[32m━━━━━━━━━━━━━━━━━━━━\u001b[0m\u001b[37m\u001b[0m \u001b[1m6s\u001b[0m 98ms/step - accuracy: 0.8534 - loss: 0.4776\n",
            "Test Accuracy: 0.8427, Test Loss: 0.4905\n"
          ]
        }
      ]
    },
    {
      "cell_type": "code",
      "source": [
        "i = random.randint(0, len(test_labels)-1)\n",
        "print('Sentence: ',test_tweets[i]) # Changed test_tweet to test_tweets\n",
        "print('Emotion: ',index_to_class[test_labels[i]])\n",
        "p = model.predict(np.expand_dims(test_seq[i], axis=0))[0]\n",
        "pred_class = index_to_class[np.argmax(p).astype('uint8')]\n",
        "print('Predicted Emotion: ',pred_class)"
      ],
      "metadata": {
        "id": "xbZsI-qK46A1",
        "colab": {
          "base_uri": "https://localhost:8080/"
        },
        "outputId": "b501103b-18bc-4fdf-f298-5e869f798a73"
      },
      "execution_count": null,
      "outputs": [
        {
          "output_type": "stream",
          "name": "stdout",
          "text": [
            "Sentence:  Yup. Garbage.\n",
            "Emotion:  Neutral\n",
            "\u001b[1m1/1\u001b[0m \u001b[32m━━━━━━━━━━━━━━━━━━━━\u001b[0m\u001b[37m\u001b[0m \u001b[1m1s\u001b[0m 1s/step\n",
            "Predicted Emotion:  Neutral\n"
          ]
        }
      ]
    },
    {
      "cell_type": "code",
      "source": [
        "preds = model.predict(test_seq)\n",
        "classes_x = np.argmax(preds, axis=1)"
      ],
      "metadata": {
        "id": "qhcJltzz5dNB",
        "colab": {
          "base_uri": "https://localhost:8080/"
        },
        "outputId": "30e23761-146e-4c26-df34-018ae9a9589f"
      },
      "execution_count": null,
      "outputs": [
        {
          "output_type": "stream",
          "name": "stdout",
          "text": [
            "\u001b[1m63/63\u001b[0m \u001b[32m━━━━━━━━━━━━━━━━━━━━\u001b[0m\u001b[37m\u001b[0m \u001b[1m8s\u001b[0m 112ms/step\n"
          ]
        }
      ]
    },
    {
      "cell_type": "code",
      "source": [
        "print(set(test_labels))\n",
        "print(set(classes_x))\n",
        "print(len(list(classes)))"
      ],
      "metadata": {
        "id": "YWOz60Tb6TxV",
        "colab": {
          "base_uri": "https://localhost:8080/"
        },
        "outputId": "0154e4bd-0434-47a2-9b39-ba32cc11a93c"
      },
      "execution_count": null,
      "outputs": [
        {
          "output_type": "stream",
          "name": "stdout",
          "text": [
            "{np.int64(0), np.int64(1), np.int64(2)}\n",
            "{np.int64(0), np.int64(1), np.int64(2)}\n",
            "3\n"
          ]
        }
      ]
    },
    {
      "cell_type": "code",
      "source": [
        "show_confusion_matrix(test_labels, classes_x, list(classes))"
      ],
      "metadata": {
        "id": "Cz5296EW5yhh",
        "colab": {
          "base_uri": "https://localhost:8080/",
          "height": 452
        },
        "outputId": "220c7b51-92aa-4fc8-d552-1a7f7943261c"
      },
      "execution_count": null,
      "outputs": [
        {
          "output_type": "display_data",
          "data": {
            "text/plain": [
              "<Figure size 800x800 with 0 Axes>"
            ]
          },
          "metadata": {}
        },
        {
          "output_type": "display_data",
          "data": {
            "text/plain": [
              "<Figure size 480x480 with 2 Axes>"
            ],
            "image/png": "[encoded data removed]"
          },
          "metadata": {}
        }
      ]
    },
    {
      "cell_type": "code",
      "source": [
        "from sklearn.metrics import classification_report\n",
        "\n",
        "print(\"Classification Report:\\n\")\n",
        "print(classification_report(test_labels, classes_x, target_names=list(classes)))"
      ],
      "metadata": {
        "id": "5gH2EeOt9SLH",
        "colab": {
          "base_uri": "https://localhost:8080/"
        },
        "outputId": "175905db-1fec-4b02-f1c7-cf6cd8e42e3f"
      },
      "execution_count": null,
      "outputs": [
        {
          "output_type": "stream",
          "name": "stdout",
          "text": [
            "Classification Report:\n",
            "\n",
            "              precision    recall  f1-score   support\n",
            "\n",
            "     Neutral       0.86      0.88      0.87       653\n",
            "    Positive       0.82      0.86      0.84       675\n",
            "    Negative       0.85      0.79      0.82       674\n",
            "\n",
            "    accuracy                           0.84      2002\n",
            "   macro avg       0.84      0.84      0.84      2002\n",
            "weighted avg       0.84      0.84      0.84      2002\n",
            "\n"
          ]
        }
      ]
    }
  ]
}